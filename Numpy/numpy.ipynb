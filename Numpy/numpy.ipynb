{
  "nbformat": 4,
  "nbformat_minor": 0,
  "metadata": {
    "orig_nbformat": 4,
    "colab": {
      "name": "numpy.ipynb",
      "provenance": []
    },
    "language_info": {
      "name": "python"
    },
    "kernelspec": {
      "name": "python3",
      "display_name": "Python 3"
    }
  },
  "cells": [
    {
      "cell_type": "markdown",
      "metadata": {
        "id": "7N8iLAUjU9sb"
      },
      "source": [
        "# Numpy"
      ]
    },
    {
      "cell_type": "code",
      "metadata": {
        "id": "NxgzRye_VBx_"
      },
      "source": [
        "import numpy as np"
      ],
      "execution_count": 1,
      "outputs": []
    },
    {
      "cell_type": "code",
      "metadata": {
        "id": "NhFTpk3CbBt3",
        "outputId": "087ef4a3-33b5-4f26-d308-021166b5ce46",
        "colab": {
          "base_uri": "https://localhost:8080/"
        }
      },
      "source": [
        "a=np.array([1,2,3,4,5,6,7,8,9])\n",
        "print(a[0])\n",
        "print(a[1:3])\n",
        "print(a[1:-1])\n",
        "print(a[1::3])\n",
        "print(a[::-2])"
      ],
      "execution_count": 17,
      "outputs": [
        {
          "output_type": "stream",
          "name": "stdout",
          "text": [
            "1\n",
            "[2 3]\n",
            "[2 3 4 5 6 7 8]\n",
            "[2 5 8]\n",
            "[9 7 5 3 1]\n"
          ]
        }
      ]
    },
    {
      "cell_type": "code",
      "metadata": {
        "id": "MXuRI7MebND5",
        "outputId": "36b733dc-7827-4c37-a4f8-07df94935819",
        "colab": {
          "base_uri": "https://localhost:8080/"
        }
      },
      "source": [
        "a.sum()"
      ],
      "execution_count": 18,
      "outputs": [
        {
          "output_type": "execute_result",
          "data": {
            "text/plain": [
              "45"
            ]
          },
          "metadata": {},
          "execution_count": 18
        }
      ]
    },
    {
      "cell_type": "code",
      "metadata": {
        "id": "D7YqiB_6hF1w",
        "outputId": "a726eb25-40ba-4da7-d350-39cde1f5b022",
        "colab": {
          "base_uri": "https://localhost:8080/"
        }
      },
      "source": [
        "a.mean()"
      ],
      "execution_count": 19,
      "outputs": [
        {
          "output_type": "execute_result",
          "data": {
            "text/plain": [
              "5.0"
            ]
          },
          "metadata": {},
          "execution_count": 19
        }
      ]
    },
    {
      "cell_type": "code",
      "metadata": {
        "id": "vUBaUgPwhIcI",
        "outputId": "a3aef07a-2e83-4e67-ffec-ea53e78ede2d",
        "colab": {
          "base_uri": "https://localhost:8080/"
        }
      },
      "source": [
        "a.std()"
      ],
      "execution_count": 20,
      "outputs": [
        {
          "output_type": "execute_result",
          "data": {
            "text/plain": [
              "2.581988897471611"
            ]
          },
          "metadata": {},
          "execution_count": 20
        }
      ]
    },
    {
      "cell_type": "code",
      "metadata": {
        "id": "UE_jJFfShJ5g",
        "outputId": "1f54870b-00b1-4e4b-c9f7-57ab948d22f9",
        "colab": {
          "base_uri": "https://localhost:8080/"
        }
      },
      "source": [
        "a.var()"
      ],
      "execution_count": 21,
      "outputs": [
        {
          "output_type": "execute_result",
          "data": {
            "text/plain": [
              "6.666666666666667"
            ]
          },
          "metadata": {},
          "execution_count": 21
        }
      ]
    },
    {
      "cell_type": "code",
      "metadata": {
        "id": "AMUk022AhLKn",
        "outputId": "5bd1b694-0daa-4f0b-98e7-eb09892a55ff",
        "colab": {
          "base_uri": "https://localhost:8080/"
        }
      },
      "source": [
        "A = np.array([\n",
        "    ['a', 'b', 'c'],\n",
        "    ['d', 'e', 'f'],\n",
        "    ['g', 'h', 'i']\n",
        "])\n",
        "\n",
        "print(A[:, :2])"
      ],
      "execution_count": 23,
      "outputs": [
        {
          "output_type": "stream",
          "name": "stdout",
          "text": [
            "[['a' 'b']\n",
            " ['d' 'e']\n",
            " ['g' 'h']]\n"
          ]
        }
      ]
    },
    {
      "cell_type": "code",
      "metadata": {
        "id": "32qVj5t5hPEn",
        "outputId": "a178f45c-e1a3-467a-dece-2b1cf08b6a46",
        "colab": {
          "base_uri": "https://localhost:8080/"
        }
      },
      "source": [
        "B=np.array([[1,2,3],[4,5,6],[7,8,9]])\n",
        "B"
      ],
      "execution_count": 25,
      "outputs": [
        {
          "output_type": "execute_result",
          "data": {
            "text/plain": [
              "array([[1, 2, 3],\n",
              "       [4, 5, 6],\n",
              "       [7, 8, 9]])"
            ]
          },
          "metadata": {},
          "execution_count": 25
        }
      ]
    },
    {
      "cell_type": "code",
      "metadata": {
        "id": "onyYJbcUheja",
        "outputId": "760593f9-579b-4398-a075-0b00d5044bdc",
        "colab": {
          "base_uri": "https://localhost:8080/"
        }
      },
      "source": [
        "B.sum()"
      ],
      "execution_count": 26,
      "outputs": [
        {
          "output_type": "execute_result",
          "data": {
            "text/plain": [
              "45"
            ]
          },
          "metadata": {},
          "execution_count": 26
        }
      ]
    },
    {
      "cell_type": "code",
      "metadata": {
        "id": "1s7GzX7ohiQI",
        "outputId": "aa2a3317-26e0-4aba-a524-b00f4ecfaa6e",
        "colab": {
          "base_uri": "https://localhost:8080/"
        }
      },
      "source": [
        "B.sum(axis=1)"
      ],
      "execution_count": 27,
      "outputs": [
        {
          "output_type": "execute_result",
          "data": {
            "text/plain": [
              "array([ 6, 15, 24])"
            ]
          },
          "metadata": {},
          "execution_count": 27
        }
      ]
    },
    {
      "cell_type": "code",
      "metadata": {
        "id": "XORzLyxphzmY",
        "outputId": "eaf355eb-aa6c-4fad-d6b3-30d66ca384e5",
        "colab": {
          "base_uri": "https://localhost:8080/"
        }
      },
      "source": [
        "B.sum(axis=0)"
      ],
      "execution_count": 28,
      "outputs": [
        {
          "output_type": "execute_result",
          "data": {
            "text/plain": [
              "array([12, 15, 18])"
            ]
          },
          "metadata": {},
          "execution_count": 28
        }
      ]
    },
    {
      "cell_type": "markdown",
      "metadata": {
        "id": "kf-nznDPiNKA"
      },
      "source": [
        "Numpy Broadcasting and vectorized operations\n"
      ]
    },
    {
      "cell_type": "code",
      "metadata": {
        "id": "ctjBXM2mh6Eb",
        "outputId": "adffa6bf-21a8-4b9c-bb9f-2c83b66b0f19",
        "colab": {
          "base_uri": "https://localhost:8080/"
        }
      },
      "source": [
        "a = np.arange(5)\n",
        "a + 20"
      ],
      "execution_count": 29,
      "outputs": [
        {
          "output_type": "execute_result",
          "data": {
            "text/plain": [
              "array([20, 21, 22, 23, 24])"
            ]
          },
          "metadata": {},
          "execution_count": 29
        }
      ]
    },
    {
      "cell_type": "code",
      "metadata": {
        "id": "eZfvWny0isYo",
        "outputId": "3813be94-49eb-415d-fbd0-b4fef8fe9505",
        "colab": {
          "base_uri": "https://localhost:8080/"
        }
      },
      "source": [
        "a+=20\n",
        "a"
      ],
      "execution_count": 32,
      "outputs": [
        {
          "output_type": "execute_result",
          "data": {
            "text/plain": [
              "array([20, 21, 22, 23, 24])"
            ]
          },
          "metadata": {},
          "execution_count": 32
        }
      ]
    },
    {
      "cell_type": "code",
      "metadata": {
        "id": "jmQC6jXsiwM5"
      },
      "source": [
        ""
      ],
      "execution_count": null,
      "outputs": []
    }
  ]
}