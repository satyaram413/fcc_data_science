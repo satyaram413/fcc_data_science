{
  "nbformat": 4,
  "nbformat_minor": 0,
  "metadata": {
    "orig_nbformat": 4,
    "colab": {
      "name": "numpy.ipynb",
      "provenance": []
    },
    "language_info": {
      "name": "python"
    },
    "kernelspec": {
      "name": "python3",
      "display_name": "Python 3"
    }
  },
  "cells": [
    {
      "cell_type": "markdown",
      "metadata": {
        "id": "7N8iLAUjU9sb"
      },
      "source": [
        "# Numpy"
      ]
    },
    {
      "cell_type": "code",
      "metadata": {
        "id": "NxgzRye_VBx_"
      },
      "source": [
        "import numpy as np\n",
        "import  sys"
      ],
      "execution_count": 64,
      "outputs": []
    },
    {
      "cell_type": "code",
      "metadata": {
        "colab": {
          "base_uri": "https://localhost:8080/"
        },
        "id": "NhFTpk3CbBt3",
        "outputId": "087ef4a3-33b5-4f26-d308-021166b5ce46"
      },
      "source": [
        "a=np.array([1,2,3,4,5,6,7,8,9])\n",
        "print(a[0])\n",
        "print(a[1:3])\n",
        "print(a[1:-1])\n",
        "print(a[1::3])\n",
        "print(a[::-2])"
      ],
      "execution_count": 17,
      "outputs": [
        {
          "output_type": "stream",
          "name": "stdout",
          "text": [
            "1\n",
            "[2 3]\n",
            "[2 3 4 5 6 7 8]\n",
            "[2 5 8]\n",
            "[9 7 5 3 1]\n"
          ]
        }
      ]
    },
    {
      "cell_type": "code",
      "metadata": {
        "colab": {
          "base_uri": "https://localhost:8080/"
        },
        "id": "MXuRI7MebND5",
        "outputId": "36b733dc-7827-4c37-a4f8-07df94935819"
      },
      "source": [
        "a.sum()"
      ],
      "execution_count": 18,
      "outputs": [
        {
          "output_type": "execute_result",
          "data": {
            "text/plain": [
              "45"
            ]
          },
          "metadata": {},
          "execution_count": 18
        }
      ]
    },
    {
      "cell_type": "code",
      "metadata": {
        "colab": {
          "base_uri": "https://localhost:8080/"
        },
        "id": "D7YqiB_6hF1w",
        "outputId": "a726eb25-40ba-4da7-d350-39cde1f5b022"
      },
      "source": [
        "a.mean()"
      ],
      "execution_count": 19,
      "outputs": [
        {
          "output_type": "execute_result",
          "data": {
            "text/plain": [
              "5.0"
            ]
          },
          "metadata": {},
          "execution_count": 19
        }
      ]
    },
    {
      "cell_type": "code",
      "metadata": {
        "colab": {
          "base_uri": "https://localhost:8080/"
        },
        "id": "vUBaUgPwhIcI",
        "outputId": "a3aef07a-2e83-4e67-ffec-ea53e78ede2d"
      },
      "source": [
        "a.std()"
      ],
      "execution_count": 20,
      "outputs": [
        {
          "output_type": "execute_result",
          "data": {
            "text/plain": [
              "2.581988897471611"
            ]
          },
          "metadata": {},
          "execution_count": 20
        }
      ]
    },
    {
      "cell_type": "code",
      "metadata": {
        "colab": {
          "base_uri": "https://localhost:8080/"
        },
        "id": "UE_jJFfShJ5g",
        "outputId": "1f54870b-00b1-4e4b-c9f7-57ab948d22f9"
      },
      "source": [
        "a.var()"
      ],
      "execution_count": 21,
      "outputs": [
        {
          "output_type": "execute_result",
          "data": {
            "text/plain": [
              "6.666666666666667"
            ]
          },
          "metadata": {},
          "execution_count": 21
        }
      ]
    },
    {
      "cell_type": "code",
      "metadata": {
        "colab": {
          "base_uri": "https://localhost:8080/"
        },
        "id": "AMUk022AhLKn",
        "outputId": "5bd1b694-0daa-4f0b-98e7-eb09892a55ff"
      },
      "source": [
        "A = np.array([\n",
        "    ['a', 'b', 'c'],\n",
        "    ['d', 'e', 'f'],\n",
        "    ['g', 'h', 'i']\n",
        "])\n",
        "\n",
        "print(A[:, :2])"
      ],
      "execution_count": 23,
      "outputs": [
        {
          "output_type": "stream",
          "name": "stdout",
          "text": [
            "[['a' 'b']\n",
            " ['d' 'e']\n",
            " ['g' 'h']]\n"
          ]
        }
      ]
    },
    {
      "cell_type": "code",
      "metadata": {
        "colab": {
          "base_uri": "https://localhost:8080/"
        },
        "id": "32qVj5t5hPEn",
        "outputId": "a178f45c-e1a3-467a-dece-2b1cf08b6a46"
      },
      "source": [
        "B=np.array([[1,2,3],[4,5,6],[7,8,9]])\n",
        "B"
      ],
      "execution_count": 25,
      "outputs": [
        {
          "output_type": "execute_result",
          "data": {
            "text/plain": [
              "array([[1, 2, 3],\n",
              "       [4, 5, 6],\n",
              "       [7, 8, 9]])"
            ]
          },
          "metadata": {},
          "execution_count": 25
        }
      ]
    },
    {
      "cell_type": "code",
      "metadata": {
        "colab": {
          "base_uri": "https://localhost:8080/"
        },
        "id": "onyYJbcUheja",
        "outputId": "760593f9-579b-4398-a075-0b00d5044bdc"
      },
      "source": [
        "B.sum()"
      ],
      "execution_count": 26,
      "outputs": [
        {
          "output_type": "execute_result",
          "data": {
            "text/plain": [
              "45"
            ]
          },
          "metadata": {},
          "execution_count": 26
        }
      ]
    },
    {
      "cell_type": "code",
      "metadata": {
        "colab": {
          "base_uri": "https://localhost:8080/"
        },
        "id": "1s7GzX7ohiQI",
        "outputId": "aa2a3317-26e0-4aba-a524-b00f4ecfaa6e"
      },
      "source": [
        "B.sum(axis=1)"
      ],
      "execution_count": 27,
      "outputs": [
        {
          "output_type": "execute_result",
          "data": {
            "text/plain": [
              "array([ 6, 15, 24])"
            ]
          },
          "metadata": {},
          "execution_count": 27
        }
      ]
    },
    {
      "cell_type": "code",
      "metadata": {
        "colab": {
          "base_uri": "https://localhost:8080/"
        },
        "id": "XORzLyxphzmY",
        "outputId": "eaf355eb-aa6c-4fad-d6b3-30d66ca384e5"
      },
      "source": [
        "B.sum(axis=0)"
      ],
      "execution_count": 28,
      "outputs": [
        {
          "output_type": "execute_result",
          "data": {
            "text/plain": [
              "array([12, 15, 18])"
            ]
          },
          "metadata": {},
          "execution_count": 28
        }
      ]
    },
    {
      "cell_type": "markdown",
      "metadata": {
        "id": "kf-nznDPiNKA"
      },
      "source": [
        "Numpy Broadcasting and vectorized operations\n"
      ]
    },
    {
      "cell_type": "code",
      "metadata": {
        "colab": {
          "base_uri": "https://localhost:8080/"
        },
        "id": "ctjBXM2mh6Eb",
        "outputId": "adffa6bf-21a8-4b9c-bb9f-2c83b66b0f19"
      },
      "source": [
        "a = np.arange(5)\n",
        "a + 20"
      ],
      "execution_count": 29,
      "outputs": [
        {
          "output_type": "execute_result",
          "data": {
            "text/plain": [
              "array([20, 21, 22, 23, 24])"
            ]
          },
          "metadata": {},
          "execution_count": 29
        }
      ]
    },
    {
      "cell_type": "code",
      "metadata": {
        "colab": {
          "base_uri": "https://localhost:8080/"
        },
        "id": "eZfvWny0isYo",
        "outputId": "3813be94-49eb-415d-fbd0-b4fef8fe9505"
      },
      "source": [
        "a+=20\n",
        "a"
      ],
      "execution_count": 32,
      "outputs": [
        {
          "output_type": "execute_result",
          "data": {
            "text/plain": [
              "array([20, 21, 22, 23, 24])"
            ]
          },
          "metadata": {},
          "execution_count": 32
        }
      ]
    },
    {
      "cell_type": "code",
      "metadata": {
        "colab": {
          "base_uri": "https://localhost:8080/"
        },
        "id": "jmQC6jXsiwM5",
        "outputId": "b9b4175c-baf1-4118-856f-1c4431b89349"
      },
      "source": [
        "a\n",
        "a[[0,-1]]\n",
        "a[[True, False, False, False, True]] #boolean and multidimensions will give same ouput"
      ],
      "execution_count": 38,
      "outputs": [
        {
          "output_type": "execute_result",
          "data": {
            "text/plain": [
              "array([20, 24])"
            ]
          },
          "metadata": {},
          "execution_count": 38
        }
      ]
    },
    {
      "cell_type": "code",
      "metadata": {
        "id": "TwpJ_8Bbk0Mg",
        "outputId": "28bee295-77b8-4d89-ab9a-a2728da13e61",
        "colab": {
          "base_uri": "https://localhost:8080/"
        }
      },
      "source": [
        "a>=2"
      ],
      "execution_count": 39,
      "outputs": [
        {
          "output_type": "execute_result",
          "data": {
            "text/plain": [
              "array([ True,  True,  True,  True,  True])"
            ]
          },
          "metadata": {},
          "execution_count": 39
        }
      ]
    },
    {
      "cell_type": "code",
      "metadata": {
        "id": "BrjwnLbilPfg",
        "outputId": "beb1c16c-860a-4e2f-df1f-bd785fee847c",
        "colab": {
          "base_uri": "https://localhost:8080/"
        }
      },
      "source": [
        "a[a>=23]"
      ],
      "execution_count": 41,
      "outputs": [
        {
          "output_type": "execute_result",
          "data": {
            "text/plain": [
              "array([23, 24])"
            ]
          },
          "metadata": {},
          "execution_count": 41
        }
      ]
    },
    {
      "cell_type": "code",
      "metadata": {
        "id": "zCoZ_h9_ldF4",
        "outputId": "34b65268-001b-4cd1-ae37-4fcb1be59391",
        "colab": {
          "base_uri": "https://localhost:8080/"
        }
      },
      "source": [
        "a"
      ],
      "execution_count": 42,
      "outputs": [
        {
          "output_type": "execute_result",
          "data": {
            "text/plain": [
              "array([20, 21, 22, 23, 24])"
            ]
          },
          "metadata": {},
          "execution_count": 42
        }
      ]
    },
    {
      "cell_type": "code",
      "metadata": {
        "id": "X-FDzdaWli3o",
        "outputId": "4283c14a-4033-4a69-e1c7-76a5f58aa832",
        "colab": {
          "base_uri": "https://localhost:8080/"
        }
      },
      "source": [
        "a[~(a> a.mean())]"
      ],
      "execution_count": 43,
      "outputs": [
        {
          "output_type": "execute_result",
          "data": {
            "text/plain": [
              "array([20, 21, 22])"
            ]
          },
          "metadata": {},
          "execution_count": 43
        }
      ]
    },
    {
      "cell_type": "code",
      "metadata": {
        "id": "XvZXRps_lqGQ",
        "outputId": "ba237d15-edc9-4762-de47-398446acd29e",
        "colab": {
          "base_uri": "https://localhost:8080/"
        }
      },
      "source": [
        "a[(a==20) | (a==24)]"
      ],
      "execution_count": 45,
      "outputs": [
        {
          "output_type": "execute_result",
          "data": {
            "text/plain": [
              "array([20, 24])"
            ]
          },
          "metadata": {},
          "execution_count": 45
        }
      ]
    },
    {
      "cell_type": "code",
      "metadata": {
        "id": "7_5D_hiTlzmw"
      },
      "source": [
        "randA= np.random.randint(100, size=(3,3))"
      ],
      "execution_count": 47,
      "outputs": []
    },
    {
      "cell_type": "code",
      "metadata": {
        "id": "xMER19iXl8Tw",
        "outputId": "916224ec-535b-47ef-df83-0a24d282d4c7",
        "colab": {
          "base_uri": "https://localhost:8080/"
        }
      },
      "source": [
        "randA"
      ],
      "execution_count": 48,
      "outputs": [
        {
          "output_type": "execute_result",
          "data": {
            "text/plain": [
              "array([[62, 65, 73],\n",
              "       [79, 67, 31],\n",
              "       [37, 91, 88]])"
            ]
          },
          "metadata": {},
          "execution_count": 48
        }
      ]
    },
    {
      "cell_type": "code",
      "metadata": {
        "id": "Pom63R70l-25",
        "outputId": "ec1f67d7-62a7-4548-feaf-30ba40e91d24",
        "colab": {
          "base_uri": "https://localhost:8080/"
        }
      },
      "source": [
        "randA >90"
      ],
      "execution_count": 51,
      "outputs": [
        {
          "output_type": "execute_result",
          "data": {
            "text/plain": [
              "array([[False, False, False],\n",
              "       [False, False, False],\n",
              "       [False,  True, False]])"
            ]
          },
          "metadata": {},
          "execution_count": 51
        }
      ]
    },
    {
      "cell_type": "markdown",
      "metadata": {
        "id": "fmYitoBmmjPN"
      },
      "source": [
        "Linear Algebra\n"
      ]
    },
    {
      "cell_type": "code",
      "metadata": {
        "id": "A2wsqUTzmnD0",
        "outputId": "bae8ab9e-44ec-46db-cb60-be3da9fb3935",
        "colab": {
          "base_uri": "https://localhost:8080/"
        }
      },
      "source": [
        "randA"
      ],
      "execution_count": 52,
      "outputs": [
        {
          "output_type": "execute_result",
          "data": {
            "text/plain": [
              "array([[62, 65, 73],\n",
              "       [79, 67, 31],\n",
              "       [37, 91, 88]])"
            ]
          },
          "metadata": {},
          "execution_count": 52
        }
      ]
    },
    {
      "cell_type": "code",
      "metadata": {
        "id": "4KB7NL6Hmoxn"
      },
      "source": [
        "randB= np.random.randint(100,size=(3,3))"
      ],
      "execution_count": 56,
      "outputs": []
    },
    {
      "cell_type": "code",
      "metadata": {
        "id": "hkPwqPlDmu1Y",
        "outputId": "88003e99-d24d-4b37-b1ed-0d12bcad40fb",
        "colab": {
          "base_uri": "https://localhost:8080/"
        }
      },
      "source": [
        "randA.dot(randB)"
      ],
      "execution_count": 57,
      "outputs": [
        {
          "output_type": "execute_result",
          "data": {
            "text/plain": [
              "array([[ 3188,  9435, 11270],\n",
              "       [ 2537,  6021, 11694],\n",
              "       [ 3731, 10053, 10557]])"
            ]
          },
          "metadata": {},
          "execution_count": 57
        }
      ]
    },
    {
      "cell_type": "code",
      "metadata": {
        "id": "3Xt68Pzrm0pQ",
        "outputId": "f8fa028c-5290-4f9e-9932-e417227ee5a4",
        "colab": {
          "base_uri": "https://localhost:8080/"
        }
      },
      "source": [
        "randA + randB"
      ],
      "execution_count": 59,
      "outputs": [
        {
          "output_type": "execute_result",
          "data": {
            "text/plain": [
              "array([[ 71, 101, 169],\n",
              "       [ 97,  70,  78],\n",
              "       [ 57, 187, 119]])"
            ]
          },
          "metadata": {},
          "execution_count": 59
        }
      ]
    },
    {
      "cell_type": "code",
      "metadata": {
        "id": "a3h4TGlem7dY",
        "outputId": "7a13ca81-4631-4217-b14d-26a89f3cc16b",
        "colab": {
          "base_uri": "https://localhost:8080/"
        }
      },
      "source": [
        "randA @ randB"
      ],
      "execution_count": 60,
      "outputs": [
        {
          "output_type": "execute_result",
          "data": {
            "text/plain": [
              "array([[ 3188,  9435, 11270],\n",
              "       [ 2537,  6021, 11694],\n",
              "       [ 3731, 10053, 10557]])"
            ]
          },
          "metadata": {},
          "execution_count": 60
        }
      ]
    },
    {
      "cell_type": "code",
      "metadata": {
        "id": "bZGAyWU5nDGv",
        "outputId": "eedc1582-ab12-44f6-efe3-eb444fd4636b",
        "colab": {
          "base_uri": "https://localhost:8080/"
        }
      },
      "source": [
        "print(randA)\n",
        "randA.T\n"
      ],
      "execution_count": 62,
      "outputs": [
        {
          "output_type": "stream",
          "name": "stdout",
          "text": [
            "[[62 65 73]\n",
            " [79 67 31]\n",
            " [37 91 88]]\n"
          ]
        },
        {
          "output_type": "execute_result",
          "data": {
            "text/plain": [
              "array([[62, 79, 37],\n",
              "       [65, 67, 91],\n",
              "       [73, 31, 88]])"
            ]
          },
          "metadata": {},
          "execution_count": 62
        }
      ]
    },
    {
      "cell_type": "markdown",
      "metadata": {
        "id": "Thy4IOwwnkjU"
      },
      "source": [
        "Size of Objects in Memory\n"
      ]
    },
    {
      "cell_type": "code",
      "metadata": {
        "id": "zqtrZP9fnnpn",
        "outputId": "3ca26010-446f-447e-9950-d4588871e557",
        "colab": {
          "base_uri": "https://localhost:8080/"
        }
      },
      "source": [
        "sys.getsizeof(1)"
      ],
      "execution_count": 65,
      "outputs": [
        {
          "output_type": "execute_result",
          "data": {
            "text/plain": [
              "28"
            ]
          },
          "metadata": {},
          "execution_count": 65
        }
      ]
    },
    {
      "cell_type": "code",
      "metadata": {
        "id": "ocE0yEIInzKo",
        "outputId": "bafb9c04-eacf-4258-d20d-ed5389d63a9f",
        "colab": {
          "base_uri": "https://localhost:8080/"
        }
      },
      "source": [
        "#Longs are even larger\n",
        "sys.getsizeof(10**100)"
      ],
      "execution_count": 68,
      "outputs": [
        {
          "output_type": "execute_result",
          "data": {
            "text/plain": [
              "72"
            ]
          },
          "metadata": {},
          "execution_count": 68
        }
      ]
    },
    {
      "cell_type": "code",
      "metadata": {
        "id": "1zjzOD4moEbA",
        "outputId": "f5f5276c-ae6c-4f6e-d2c5-130de75cb4ae",
        "colab": {
          "base_uri": "https://localhost:8080/"
        }
      },
      "source": [
        "np.dtype(np.int8).itemsize"
      ],
      "execution_count": 70,
      "outputs": [
        {
          "output_type": "execute_result",
          "data": {
            "text/plain": [
              "1"
            ]
          },
          "metadata": {},
          "execution_count": 70
        }
      ]
    },
    {
      "cell_type": "code",
      "metadata": {
        "id": "qgXggUn4oOaP",
        "outputId": "46fa1766-3e42-4248-dc16-9c11c2ab1f3d",
        "colab": {
          "base_uri": "https://localhost:8080/"
        }
      },
      "source": [
        "np.dtype(np.float64).itemsize"
      ],
      "execution_count": 73,
      "outputs": [
        {
          "output_type": "execute_result",
          "data": {
            "text/plain": [
              "8"
            ]
          },
          "metadata": {},
          "execution_count": 73
        }
      ]
    },
    {
      "cell_type": "code",
      "metadata": {
        "id": "Nk_sLkEwo1FD"
      },
      "source": [
        "l=list(range(1000))"
      ],
      "execution_count": 74,
      "outputs": []
    },
    {
      "cell_type": "code",
      "metadata": {
        "id": "LXnIoUpho96w"
      },
      "source": [
        "n= np.arange(1000)"
      ],
      "execution_count": 75,
      "outputs": []
    },
    {
      "cell_type": "code",
      "metadata": {
        "id": "TuitlhLEpBFH",
        "outputId": "279c6bbe-200e-4a9f-a09e-90edc7c11bf4",
        "colab": {
          "base_uri": "https://localhost:8080/"
        }
      },
      "source": [
        "%time np.sum(n ** 2)"
      ],
      "execution_count": 77,
      "outputs": [
        {
          "output_type": "stream",
          "name": "stdout",
          "text": [
            "CPU times: user 123 µs, sys: 16 µs, total: 139 µs\n",
            "Wall time: 103 µs\n"
          ]
        },
        {
          "output_type": "execute_result",
          "data": {
            "text/plain": [
              "332833500"
            ]
          },
          "metadata": {},
          "execution_count": 77
        }
      ]
    },
    {
      "cell_type": "code",
      "metadata": {
        "id": "1ECv0LkipEg4",
        "outputId": "5dddf271-344d-43f0-f473-0d886ae130cd",
        "colab": {
          "base_uri": "https://localhost:8080/"
        }
      },
      "source": [
        "%time sum([x **2 for x in l])"
      ],
      "execution_count": 78,
      "outputs": [
        {
          "output_type": "stream",
          "name": "stdout",
          "text": [
            "CPU times: user 416 µs, sys: 52 µs, total: 468 µs\n",
            "Wall time: 475 µs\n"
          ]
        },
        {
          "output_type": "execute_result",
          "data": {
            "text/plain": [
              "332833500"
            ]
          },
          "metadata": {},
          "execution_count": 78
        }
      ]
    }
  ]
}